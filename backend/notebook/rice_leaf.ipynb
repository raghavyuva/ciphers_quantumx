{
 "cells": [
  {
   "cell_type": "code",
   "execution_count": 8,
   "id": "05bbe91b",
   "metadata": {},
   "outputs": [],
   "source": [
    "import tensorflow as tf\n",
    "from tensorflow import keras\n",
    "import os\n",
    "from tensorflow.keras.preprocessing.image import ImageDataGenerator\n",
    "import datetime"
   ]
  },
  {
   "cell_type": "code",
   "execution_count": 9,
   "id": "326a8090",
   "metadata": {},
   "outputs": [
    {
     "data": {
      "text/plain": [
       "['Brown spot', 'Leaf smut', 'Bacterial leaf blight']"
      ]
     },
     "execution_count": 9,
     "metadata": {},
     "output_type": "execute_result"
    }
   ],
   "source": [
    "os.listdir(\"rice_leaf_diseases/\")"
   ]
  },
  {
   "cell_type": "code",
   "execution_count": 11,
   "id": "8b3d086f",
   "metadata": {},
   "outputs": [],
   "source": [
    "bacteria_leaf = os.path.join(\"rice_leaf_diseases\",\"Bacterial leaf blight\")\n",
    "brown_spot = os.path.join(\"rice_leaf_diseases\",\"Brown spot\")\n",
    "leaf_smut = os.path.join(\"rice_leaf_diseases\",\"Leaf smut\")"
   ]
  },
  {
   "cell_type": "code",
   "execution_count": 34,
   "id": "f26cc1ff",
   "metadata": {},
   "outputs": [],
   "source": [
    "IMAGE_SHAPE = (350,350) \n",
    "numEPOCHS = 10\n",
    "BATCH_SIZE = 32\n",
    "CLASS_NUM = 3"
   ]
  },
  {
   "cell_type": "code",
   "execution_count": 29,
   "id": "31eb3599",
   "metadata": {},
   "outputs": [],
   "source": [
    "aug = ImageDataGenerator(rescale=1./255,\n",
    "                                  rotation_range=45,\n",
    "                                  zoom_range=0.2,\n",
    "                                  horizontal_flip=True,\n",
    "                                  fill_mode='nearest')"
   ]
  },
  {
   "cell_type": "code",
   "execution_count": 30,
   "id": "4270c505",
   "metadata": {},
   "outputs": [
    {
     "name": "stdout",
     "output_type": "stream",
     "text": [
      "Found 120 images belonging to 3 classes.\n"
     ]
    }
   ],
   "source": [
    "data = aug.flow_from_directory(\"rice_leaf_diseases\",batch_size=BATCH_SIZE,class_mode=\"categorical\",target_size=IMAGE_SHAPE)"
   ]
  },
  {
   "cell_type": "code",
   "execution_count": 31,
   "id": "ab2b0e0b",
   "metadata": {},
   "outputs": [],
   "source": [
    "model = keras.models.Sequential([\n",
    "    keras.layers.Conv2D(32,3,padding=\"same\",input_shape=(350,350,3)),\n",
    "    keras.layers.BatchNormalization(),\n",
    "    keras.layers.MaxPool2D(),\n",
    "    keras.layers.Conv2D(64,3,padding=\"same\",activation=\"relu\"),\n",
    "    keras.layers.BatchNormalization(),\n",
    "    keras.layers.MaxPool2D(),\n",
    "    keras.layers.Conv2D(128,3,padding=\"same\",activation=\"relu\"),\n",
    "    keras.layers.BatchNormalization(),\n",
    "    keras.layers.MaxPool2D(),\n",
    "    keras.layers.Flatten(),\n",
    "    keras.layers.Dense(256,activation=\"relu\"),\n",
    "    keras.layers.Dropout(0.5),\n",
    "    keras.layers.Dense(CLASS_NUM,activation=\"softmax\")\n",
    "])"
   ]
  },
  {
   "cell_type": "code",
   "execution_count": 32,
   "id": "871d8e4e",
   "metadata": {},
   "outputs": [],
   "source": [
    "model.compile(optimizer=\"adam\",loss=\"categorical_crossentropy\",metrics=[\"acc\"])"
   ]
  },
  {
   "cell_type": "code",
   "execution_count": 35,
   "id": "7d61e397",
   "metadata": {},
   "outputs": [
    {
     "name": "stdout",
     "output_type": "stream",
     "text": [
      "Epoch 1/10\n",
      "4/4 [==============================] - 19s 5s/step - loss: 14.7709 - acc: 0.6917\n",
      "Epoch 2/10\n",
      "4/4 [==============================] - 20s 4s/step - loss: 18.0940 - acc: 0.7250\n",
      "Epoch 3/10\n",
      "4/4 [==============================] - 20s 4s/step - loss: 14.1949 - acc: 0.6833\n",
      "Epoch 4/10\n",
      "4/4 [==============================] - 19s 4s/step - loss: 13.2308 - acc: 0.6333\n",
      "Epoch 5/10\n",
      "4/4 [==============================] - 20s 5s/step - loss: 8.1109 - acc: 0.7583\n",
      "Epoch 6/10\n",
      "4/4 [==============================] - 20s 4s/step - loss: 5.4299 - acc: 0.7833\n",
      "Epoch 7/10\n",
      "4/4 [==============================] - 19s 5s/step - loss: 4.7211 - acc: 0.7333\n",
      "Epoch 8/10\n",
      "4/4 [==============================] - 19s 5s/step - loss: 4.0389 - acc: 0.7500\n",
      "Epoch 9/10\n",
      "4/4 [==============================] - 20s 4s/step - loss: 4.8659 - acc: 0.7667\n",
      "Epoch 10/10\n",
      "4/4 [==============================] - 20s 4s/step - loss: 2.5966 - acc: 0.7500\n"
     ]
    }
   ],
   "source": [
    "history = model.fit(data,epochs=numEPOCHS,batch_size=BATCH_SIZE)"
   ]
  },
  {
   "cell_type": "code",
   "execution_count": 36,
   "id": "b5f28c9b",
   "metadata": {},
   "outputs": [],
   "source": [
    "model.save(\"model.h5\")"
   ]
  },
  {
   "cell_type": "code",
   "execution_count": 37,
   "id": "1bb537f0",
   "metadata": {},
   "outputs": [],
   "source": [
    "model.save_weights(\"model_weights.h5\")"
   ]
  },
  {
   "cell_type": "code",
   "execution_count": 38,
   "id": "331a170e",
   "metadata": {},
   "outputs": [],
   "source": [
    "from keras import models, utils\n",
    "import numpy as np\n",
    "import cv2\n",
    "import matplotlib.pyplot as plt"
   ]
  },
  {
   "cell_type": "code",
   "execution_count": 39,
   "id": "ebe89732",
   "metadata": {},
   "outputs": [],
   "source": [
    "new_model = models.load_model(\"model.h5\")"
   ]
  },
  {
   "cell_type": "code",
   "execution_count": 54,
   "id": "820cfbd2",
   "metadata": {},
   "outputs": [
    {
     "name": "stdout",
     "output_type": "stream",
     "text": [
      "1/1 [==============================] - 0s 90ms/step\n"
     ]
    }
   ],
   "source": [
    "img = utils.load_img(f\"{brown_spot}/{os.listdir(brown_spot)[9]}\",target_size = (350,350,3))\n",
    "x = utils.img_to_array(img)\n",
    "x = np.expand_dims(x,axis=0)\n",
    "\n",
    "target = new_model.predict(x)\n",
    "target = np.argmax(target)"
   ]
  },
  {
   "cell_type": "code",
   "execution_count": 55,
   "id": "19aa485a",
   "metadata": {},
   "outputs": [
    {
     "data": {
      "text/plain": [
       "1"
      ]
     },
     "execution_count": 55,
     "metadata": {},
     "output_type": "execute_result"
    }
   ],
   "source": [
    "target"
   ]
  },
  {
   "cell_type": "code",
   "execution_count": 47,
   "id": "e2b2297b",
   "metadata": {},
   "outputs": [
    {
     "data": {
      "text/plain": [
       "{'Bacterial leaf blight': 0, 'Brown spot': 1, 'Leaf smut': 2}"
      ]
     },
     "execution_count": 47,
     "metadata": {},
     "output_type": "execute_result"
    }
   ],
   "source": [
    "data.class_indices"
   ]
  }
 ],
 "metadata": {
  "kernelspec": {
   "display_name": "Python 3 (ipykernel)",
   "language": "python",
   "name": "python3"
  },
  "language_info": {
   "codemirror_mode": {
    "name": "ipython",
    "version": 3
   },
   "file_extension": ".py",
   "mimetype": "text/x-python",
   "name": "python",
   "nbconvert_exporter": "python",
   "pygments_lexer": "ipython3",
   "version": "3.10.6"
  }
 },
 "nbformat": 4,
 "nbformat_minor": 5
}
